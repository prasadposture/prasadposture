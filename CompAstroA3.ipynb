{
 "cells": [
  {
   "cell_type": "markdown",
   "metadata": {},
   "source": [
    "# Computational Methods in Astrophysics: Assignment 3\n",
    "##### Prasad Rajesh Posture\n",
    "Roll No.: MSC2303121013"
   ]
  },
  {
   "cell_type": "markdown",
   "metadata": {},
   "source": [
    "# Importing Dependencies"
   ]
  },
  {
   "cell_type": "code",
   "execution_count": 5,
   "metadata": {},
   "outputs": [],
   "source": [
    "import numpy as np\n",
    "import matplotlib.pyplot as plt\n",
    "import seaborn as sns\n",
    "from matplotlib.animation import FuncAnimation\n",
    "from IPython import display\n",
    "%matplotlib tk"
   ]
  },
  {
   "cell_type": "markdown",
   "metadata": {},
   "source": [
    "#### Total Variation Diminishing Schemes\n",
    "**Total Variation:** It is a measure of how much a function oscillates or varies within a given interval. It is given as $$TV(q) = \\sum_{i=0}^{N} |q_{i} - q_{i-1}|$$\n",
    "**TVD Scheme:**\n",
    "A numerical scheme is said to be total variation diminishing (TVD) scheme if\n",
    "$$ TV(q^{n+1}) \\leq TV(q^n)$$\n",
    "\n",
    "Such a scheme will not develop oscillations near a jump, because a jump is a monotonically\n",
    "in/decreasing function and a total variation diminishing scheme will not increase the TV ,\n",
    "and hence in this case keep the TV identically constant. This appears to be a desirable property\n",
    "of the numerical scheme."
   ]
  },
  {
   "cell_type": "markdown",
   "metadata": {},
   "source": [
    "#### Slope Limiters\n",
    "Sharp changes or discontinuities in a solution can introduce errors in numerical simulations because traditional numerical methods, like finite difference or finite volume schemes, struggle to accurately represent and resolve abrupt changes in the solution. When a sharp change occurs, the solution gradients become very steep, leading to large numerical errors and oscillations in the computed solution. These errors arise because the numerical method may not capture the rapid changes adequately, leading to inaccuracies in the computed values. **Slope limiters** help mitigate these issues by smoothing out the solution near sharp changes, thereby reducing the steepness of the gradients and suppressing oscillations. They restrict the steepness of the solution gradients to avoid unphysical behavior like overshoots and oscillations, especially in regions of sharp gradients or discontinuities.\n",
    "\n",
    "#### Flux Limiters\n",
    "Flux limiters are primarily used to control the propagation of information across grid cells in hyperbolic PDEs. They limit the magnitude of the numerical fluxes to prevent the formation of spurious oscillations and ensure stability and accuracy of the solution, particularly in regions of steep gradients or discontinuities. Flux limiters are essential for capturing shock waves and other discontinuities accurately, as they help maintain the monotonicity and positivity of the solution by controlling the fluxes at cell interfaces.\n",
    "\n",
    "#### Difference between Slope Limiter and Flux Limiter\n",
    "1) Slope limiters are used to control the steepness of solution gradients within individual grid cells. Flux limiters, on the other hand, are used to control the propagation of information across grid cells in hyperbolic.<br>\n",
    "2) PDEs.Slope Limiters: Applied within individual grid cells to control the rate of change of the solution. Flux Limiters: Applied at cell interfaces to control the magnitude of fluxes between adjacent grid cells.<br>\n",
    "3) Slope Limiters: Smoothen out the solution gradients within cells, preventing unphysical oscillations near sharp changes. Flux Limiters: Control the propagation of information between grid cells, ensuring stability and accuracy of the solution by limiting the magnitude of fluxes, especially in regions of steep gradients or discontinuities."
   ]
  },
  {
   "cell_type": "markdown",
   "metadata": {},
   "source": [
    "#### Defining all the required functions"
   ]
  },
  {
   "cell_type": "code",
   "execution_count": 2,
   "metadata": {},
   "outputs": [],
   "source": [
    "# Defining Phi's: Flux Limiters\n",
    "# Defining flux limiter functions\n",
    "# works\n",
    "def donner_cell(r):\n",
    "    \"Donner Cell\"\n",
    "    return 0.0\n",
    "# works\n",
    "def lax_wendroff(r):\n",
    "    \"Lax-Wendroff\"\n",
    "    return 1.0\n",
    "\n",
    "# works\n",
    "def beam_warming(r):\n",
    "    \"Beam-Warming\"\n",
    "    return r\n",
    "\n",
    "# works\n",
    "def fromm(r):\n",
    "    \"Fromm\"\n",
    "    return (1/2)*(1+r)\n",
    "\n",
    "# works\n",
    "def minmod(r):\n",
    "    \"Minmod\"\n",
    "    if r>0:\n",
    "        if 1<=abs(r):\n",
    "            return 1\n",
    "        elif 1>abs(r):\n",
    "            return r\n",
    "        else:\n",
    "            pass\n",
    "    else:\n",
    "        return 0\n",
    "\n",
    "# works\n",
    "def superbee(r):\n",
    "    \"Superbee\"\n",
    "    return max(0, min(1,2*r), min(2,r))\n",
    "\n",
    "# No reference to verify\n",
    "# It is some similiar to superbee, given that the superbee isnt working properly\n",
    "# Same issue could be with this one\n",
    "def mc(r):\n",
    "    \"MC\"\n",
    "    return max(0, min((1+r)/2, 2, 2*r))\n",
    "\n",
    "# no reference \n",
    "# lets assume that it works\n",
    "def van_leer(r):\n",
    "    \"van Leer\"\n",
    "    return (r+abs(r))/(1+abs(r))\n"
   ]
  },
  {
   "cell_type": "code",
   "execution_count": 3,
   "metadata": {},
   "outputs": [],
   "source": [
    "# Defining a solver function\n",
    "\n",
    "def pde_solver(method,dt = 10**(-3), c = 3.0, nt=10):\n",
    "    global method_, dt_, nt_\n",
    "    method_ = method\n",
    "    nx = 200\n",
    "    x = np.linspace(-10, 10, nx)\n",
    "    dx = x[1] - x[0]\n",
    "    dt_ = dt    \n",
    "    nt_ = nt                                          \n",
    "    t = np.arange(0,nt, dt)          \n",
    "    pulse_height = 1.0\n",
    "    pulse_width = 5.0\n",
    "    q0 = np.where((np.abs(x) <= pulse_width), pulse_height, 0)\n",
    "    \n",
    "    q = q0.copy()\n",
    "    sol = []\n",
    "   \n",
    "    for i in range(len(t)):\n",
    "        qn = q.copy()\n",
    "        sol.append(qn)\n",
    "       \n",
    "        for i in range(nx):\n",
    "            theta = 1\n",
    "        \n",
    "            dm = ((qn[i] - qn[(i-1) % nx]))\n",
    "            if dm != 0:\n",
    "                rnm = (qn[(i - 1) % nx] - qn[(i - 2) % nx]) / dm\n",
    "            else:\n",
    "                rnm = 0.0\n",
    "            phim = method(rnm)\n",
    "            \n",
    "            dp = ((qn[(i+1)%nx] - qn[i]))\n",
    "            if dp !=0:\n",
    "                rnp = (qn[i] - qn[(i - 1) % nx]) / dp\n",
    "            else:\n",
    "                rnp = 0.0\n",
    "            phip = method(rnp)\n",
    "\n",
    "            \n",
    "            fnm = c/2 * ((1 + theta)*qn[(i - 1) % nx] + (1 - theta)*qn[i]) + abs(c)/2 * (1-abs(c*dt/dx))*(qn[i] - qn[(i - 1) % nx]) * phim\n",
    "            fnp = c/2 * ((1 + theta)*qn[i] + (1 - theta)*qn[(i + 1) % nx]) + abs(c)/2 * (1-abs(c*dt/dx))*(qn[(i + 1) % nx] - qn[i]) * phip\n",
    "            \n",
    "            q[i] = qn[i] + (dt/dx) * (fnm-fnp)\n",
    "    return sol"
   ]
  },
  {
   "cell_type": "code",
   "execution_count": 4,
   "metadata": {},
   "outputs": [],
   "source": [
    "# Defininga a plotter function\n",
    "def animator(sol):\n",
    "    x = np.linspace(-10,10,len(sol[0]))\n",
    "    fig = plt.figure()\n",
    "    lines = plt.plot([])\n",
    "    line = lines[0]\n",
    "    plt.xlim(-10,10)\n",
    "    plt.ylim(-0.05, max(sol[0])+0.1)\n",
    "    plt.ylabel(\"Amplitude\")\n",
    "    plt.xlabel(\"Position(x)\")\n",
    "    plt.title(method_.__doc__)\n",
    "    def animate(frame):\n",
    "        y = sol[frame*int((nt_/dt_)/(40*nt_))]\n",
    "        line.set_data((x,y))\n",
    "    anim = FuncAnimation(fig, animate, frames=40*nt_, interval=25)\n",
    "    return anim, plt.show()"
   ]
  },
  {
   "cell_type": "markdown",
   "metadata": {},
   "source": [
    "#### Running the simulation for each method"
   ]
  },
  {
   "cell_type": "code",
   "execution_count": 157,
   "metadata": {},
   "outputs": [
    {
     "data": {
      "text/plain": [
       "(<matplotlib.animation.FuncAnimation at 0x167158922d0>, None)"
      ]
     },
     "execution_count": 157,
     "metadata": {},
     "output_type": "execute_result"
    }
   ],
   "source": [
    "animator(pde_solver(donner_cell))"
   ]
  },
  {
   "cell_type": "code",
   "execution_count": 158,
   "metadata": {},
   "outputs": [
    {
     "data": {
      "text/plain": [
       "(<matplotlib.animation.FuncAnimation at 0x1671cf07920>, None)"
      ]
     },
     "execution_count": 158,
     "metadata": {},
     "output_type": "execute_result"
    }
   ],
   "source": [
    "animator(pde_solver(lax_wendroff))"
   ]
  },
  {
   "cell_type": "code",
   "execution_count": 7,
   "metadata": {},
   "outputs": [
    {
     "data": {
      "text/plain": [
       "(<matplotlib.animation.FuncAnimation at 0x1c07a88b380>, None)"
      ]
     },
     "execution_count": 7,
     "metadata": {},
     "output_type": "execute_result"
    }
   ],
   "source": [
    "animator(pde_solver(beam_warming))"
   ]
  },
  {
   "cell_type": "code",
   "execution_count": 8,
   "metadata": {},
   "outputs": [
    {
     "data": {
      "text/plain": [
       "(<matplotlib.animation.FuncAnimation at 0x1c07a89b050>, None)"
      ]
     },
     "execution_count": 8,
     "metadata": {},
     "output_type": "execute_result"
    }
   ],
   "source": [
    "animator(pde_solver(fromm))"
   ]
  },
  {
   "cell_type": "code",
   "execution_count": 9,
   "metadata": {},
   "outputs": [
    {
     "data": {
      "text/plain": [
       "(<matplotlib.animation.FuncAnimation at 0x1c07befd010>, None)"
      ]
     },
     "execution_count": 9,
     "metadata": {},
     "output_type": "execute_result"
    }
   ],
   "source": [
    "animator(pde_solver(minmod))"
   ]
  },
  {
   "cell_type": "code",
   "execution_count": 159,
   "metadata": {},
   "outputs": [
    {
     "data": {
      "text/plain": [
       "(<matplotlib.animation.FuncAnimation at 0x1671e48cd10>, None)"
      ]
     },
     "execution_count": 159,
     "metadata": {},
     "output_type": "execute_result"
    }
   ],
   "source": [
    "animator(pde_solver(superbee))"
   ]
  },
  {
   "cell_type": "code",
   "execution_count": 7,
   "metadata": {},
   "outputs": [
    {
     "data": {
      "text/plain": [
       "(<matplotlib.animation.FuncAnimation at 0x1b7f4f18050>, None)"
      ]
     },
     "execution_count": 7,
     "metadata": {},
     "output_type": "execute_result"
    }
   ],
   "source": [
    "animator(pde_solver(mc))"
   ]
  },
  {
   "cell_type": "code",
   "execution_count": 6,
   "metadata": {},
   "outputs": [
    {
     "data": {
      "text/plain": [
       "(<matplotlib.animation.FuncAnimation at 0x1fd5546ee40>, None)"
      ]
     },
     "execution_count": 6,
     "metadata": {},
     "output_type": "execute_result"
    }
   ],
   "source": [
    "animator(pde_solver(van_leer))"
   ]
  },
  {
   "cell_type": "markdown",
   "metadata": {},
   "source": [
    "# 2. 1D Isothermal Shock Tube"
   ]
  },
  {
   "cell_type": "markdown",
   "metadata": {},
   "source": [
    "\n",
    "#### A. 1D isothermal equations in their conservative forms\n",
    "1. **Conservation of mass:**\n",
    "   $$\\frac{\\partial \\rho}{\\partial t} + \\frac{\\partial (\\rho v)}{\\partial x} = 0$$\n",
    "\n",
    "2. **Conservation of momentum:**\n",
    "   $$\\frac{\\partial (\\rho v)}{\\partial t} + \\frac{\\partial (\\rho v^2)}{\\partial x} = -\\frac{\\partial P}{\\partial x}$$\n",
    "\n",
    "3. **Conservation of energy:**\n",
    "   $$\\frac{\\partial (\\rho e_{total})}{\\partial t} + \\frac{\\partial (\\rho v e_{total})}{\\partial x} = -\\frac{\\partial (Pv)}{\\partial x}$$\n",
    "\n",
    "where:\n",
    "- $\\rho$ is the density of the fluid,\n",
    "- $v$ is the velocity of the fluid in the x-direction,\n",
    "- $P$ is the pressure of the fluid, given by $P = \\rho c_0^2$\n",
    "- $c_0$ is the Isothermal Sound Speed\n",
    "- $e_{total}$ is the total energy per unit volume, which includes both internal energy and kinetic energy and is given by $e_{total} = e + \\frac{1}{2} v^2$,\n",
    "- $e$ is the internal/thermal energy per unit volume, given as $e = (\\gamma -1) \\frac{P}{\\rho}$"
   ]
  },
  {
   "cell_type": "markdown",
   "metadata": {},
   "source": [
    "#### B. CFL Condition\n",
    "Given CFL Factor = 0.5, signal speed = $c_0=1$ and $\\Delta x = 1$ with grid points = 100 and duration 30sec<br>\n",
    "$\\therefore$ using CFL Condition we have,<br>\n",
    "$c_0 \\frac{\\Delta t}{\\Delta x} \\leq 0.5$<br>\n",
    "Substituing the values of $\\Delta x$ and $c_0$ for $\\Delta t$, we have,<br>\n",
    "$\\Delta t = 0.5$"
   ]
  },
  {
   "cell_type": "markdown",
   "metadata": {},
   "source": [
    "#### C. Solving the continuity equation using flux limiter : Superbee\n",
    "$$\\frac{\\partial \\rho}{\\partial t} + \\frac{\\partial (\\rho v)}{\\partial x} = 0$$\n",
    "Given, $$\\rho(x, t=0) = 2\\Theta(50-x) + 1$$\n",
    "$$v(x, t=0) = 0$$\n",
    "With closed (reflective) boundaries.<br>\n",
    "Let $\\rho=q_1$ and $\\rho v = q_1v = f_1$  <br>\n",
    "$$\\frac{\\partial q_1}{\\partial t} + \\frac{\\partial f_1}{\\partial x} = 0$$\n",
    "$$q_{1,i+1}^n = q_{1,i+}^n - \\frac{\\Delta t}{\\Delta x}[f_{1,i+\\frac{1}{2}}^n - f_{1,i-\\frac{1}{2}}^n]$$\n"
   ]
  },
  {
   "cell_type": "code",
   "execution_count": 45,
   "metadata": {},
   "outputs": [],
   "source": [
    "dx = 1\n",
    "x = np.arange(0,100,dx)\n",
    "nx = len(x)\n",
    "dt = 0.01\n",
    "t = np.arange(0,30,dt)\n",
    "nt = len(t)\n",
    "c0 = 1.0\n",
    "\n",
    "# pulse_height = 1.0\n",
    "# pulse_width = 5.0\n",
    "# q10 = np.where((np.abs(x) <= pulse_width), pulse_height, 0)\n",
    "\n",
    "# Initial Conditions\n",
    "q10 = 2*(np.where(50-x>0,1,0))+1\n",
    "q20 = np.zeros_like(q10)\n",
    "\n",
    "# Solution at full step\n",
    "q1 = q10.copy()\n",
    "q2 = q20.copy()\n",
    "\n",
    "# Solution at half step\n",
    "q1_h = q10.copy()\n",
    "q2_h = q20.copy()\n",
    "\n",
    "# 2D Solution Array\n",
    "sol_q1 = []\n",
    "sol_q2 = []\n",
    "\n",
    "\n",
    "for n in range(nt):\n",
    "    q1n = q1.copy()\n",
    "    q2n = q2.copy()\n",
    "    sol_q1.append(q1n)\n",
    "    sol_q2.append(q2n)\n",
    "\n",
    "    for i in range(nx):\n",
    "\n",
    "\n",
    "        if (q1n[i]==0) or (q1n[(i+1)%nx]==0):\n",
    "            u_hp, f1p, f2p = 0, 0, 0\n",
    "        else:\n",
    "            u_hp = 0.5*((q2n[i]/q1n[i]) + (q2n[(i+1)%nx]/q1n[(i+1)%nx]))\n",
    "            if u_hp>0:\n",
    "                f1p = q1n[i]*u_hp\n",
    "                f2p = q2n[i]*u_hp\n",
    "            elif u_hp<0:\n",
    "                f1p = q1n[(i+1)%nx]*u_hp\n",
    "                f2p = q2n[(i+1)%nx]*u_hp\n",
    "            else:\n",
    "                f1p = 0\n",
    "                f2p = 0\n",
    "        \n",
    "        if (q1n[(i-1)%nx]==0) or (q1n[i]==0):\n",
    "            u_hm, f1m, f2m = 0, 0, 0\n",
    "        else:\n",
    "            u_hm = 0.5*((q2n[(i-1)%nx]/q1n[(i-1)%nx]) + (q2n[i]/q1n[i]))\n",
    "\n",
    "            if u_hm>0:\n",
    "                f1m = q1n[(i-1)%nx]*u_hm\n",
    "                f2m = q2n[(i-1)%nx]*u_hm\n",
    "            elif u_hm<0:\n",
    "                f1m = q1n[i]*u_hm\n",
    "                f2m = q2n[i]*u_hm\n",
    "            else:\n",
    "                f1m = 0\n",
    "                f2m = 0\n",
    "\n",
    "        # Calculating at half step\n",
    "        q1_h[i] = q1n[i] - (dt/dx)*(f1p - f1m)\n",
    "        q2_h[i] = q2n[i] - (dt/dx)*(f2p - f2m)\n",
    "    for j in range(nx):\n",
    "        # Updating the source term\n",
    "        q1[j] = q1_h[j]\n",
    "        q2[j] = q2_h[j] - (1/dx)*((q1_h[(j+1)%nx]-q1_h[(j-1)%nx])*c0**2)"
   ]
  },
  {
   "cell_type": "code",
   "execution_count": 46,
   "metadata": {},
   "outputs": [
    {
     "data": {
      "text/plain": [
       "(<matplotlib.animation.FuncAnimation at 0x2a5a2216240>, None)"
      ]
     },
     "execution_count": 46,
     "metadata": {},
     "output_type": "execute_result"
    }
   ],
   "source": [
    "# Defininga a plotter function\n",
    "def advection_plotter(sol, title):\n",
    "    x = np.arange(-50,50,1)\n",
    "    fig = plt.figure()\n",
    "    lines = plt.plot([])\n",
    "    line = lines[0]\n",
    "    plt.xlim(-60,60)\n",
    "    plt.ylim(-1, 3.5)\n",
    "    plt.ylabel(\"Amplitude\")\n",
    "    plt.xlabel(\"Position(x)\")\n",
    "    plt.title(title)\n",
    "    def animate(frame):\n",
    "        y = sol[frame]\n",
    "        line.set_data((x,y))\n",
    "    anim = FuncAnimation(fig, animate, frames=len(sol), interval=50)\n",
    "    return anim, plt.show()\n",
    "advection_plotter(sol_q1,\"1D Isothermal Shock Tube\")"
   ]
  },
  {
   "cell_type": "code",
   "execution_count": 44,
   "metadata": {},
   "outputs": [
    {
     "data": {
      "text/plain": [
       "(<matplotlib.animation.FuncAnimation at 0x2a5a2488f50>, None)"
      ]
     },
     "execution_count": 44,
     "metadata": {},
     "output_type": "execute_result"
    }
   ],
   "source": [
    "dx = 1\n",
    "x = np.arange(0,100,dx)\n",
    "nx = len(x)\n",
    "dt = 0.5\n",
    "t = np.arange(0,30,dt)\n",
    "nt = len(t)\n",
    "c0 = 1.0\n",
    "\n",
    "pulse_height = 1.0\n",
    "pulse_width = 5.0\n",
    "# q10 = np.where((np.abs(x) <= pulse_width), pulse_height, 0)\n",
    "q10 = 2*(np.where(50-x>0,1,0))+1\n",
    "q20 = np.zeros_like(q10)\n",
    "\n",
    "q1 = q10.copy()\n",
    "q2 = q20.copy()\n",
    "\n",
    "q1_h = q10.copy()\n",
    "q2_h = q20.copy()\n",
    "\n",
    "sol_q1 = []\n",
    "sol_q2 = []\n",
    "\n",
    "\n",
    "for n in range(nt):\n",
    "    q1n = q1.copy()\n",
    "    q2n = q2.copy()\n",
    "    sol_q1.append(q1n)\n",
    "    sol_q2.append(q2n)\n",
    "\n",
    "    for i in range(0,nx-1):\n",
    "\n",
    "\n",
    "        if (q1n[i]==0) or (q1n[(i+1)]==0):\n",
    "            u_hp, f1p, f2p = 0, 0, 0\n",
    "        else:\n",
    "            u_hp = 0.5*((q2n[i]/q1n[i]) + (q2n[(i+1)]/q1n[(i+1)]))\n",
    "            if u_hp>0:\n",
    "                f1p = q1n[i]*u_hp\n",
    "                f2p = q2n[i]*u_hp\n",
    "            elif u_hp<0:\n",
    "                f1p = q1n[(i+1)]*u_hp\n",
    "                f2p = q2n[(i+1)]*u_hp\n",
    "            else:\n",
    "                f1p = 0\n",
    "                f2p = 0\n",
    "        \n",
    "        if (q1n[(i-1)%nx]==0) or (q1n[i]==0):\n",
    "            u_hm, f1m, f2m = 0, 0, 0\n",
    "        else:\n",
    "            u_hm = 0.5*((q2n[(i-1)]/q1n[(i-1)]) + (q2n[i]/q1n[i]))\n",
    "\n",
    "            if u_hm>0:\n",
    "                f1m = q1n[(i-1)]*u_hm\n",
    "                f2m = q2n[(i-1)]*u_hm\n",
    "            elif u_hm<0:\n",
    "                f1m = q1n[i]*u_hm\n",
    "                f2m = q2n[i]*u_hm\n",
    "            else:\n",
    "                f1m = 0\n",
    "                f2m = 0\n",
    "\n",
    "        # Calculating at half step\n",
    "        q1_h[i] = q1n[i] - (dt/dx)*(f1p - f1m)\n",
    "        q2_h[i] = q2n[i] - (dt/dx)*(f2p - f2m)\n",
    "    for j in range(1,nx-1):\n",
    "        # Updating the source term\n",
    "        q1[j] = q1_h[j]\n",
    "        q2[j] = q2_h[j] - (1/dx)*((q1_h[(j+1)]-q1_h[(j-1)])*c0**2)\n",
    "\n",
    "advection_plotter(sol_q1,\"1D Isothermal Shock Tube\")"
   ]
  },
  {
   "cell_type": "code",
   "execution_count": 6,
   "metadata": {},
   "outputs": [],
   "source": [
    "def rho(nt):\n",
    "    %matplotlib tk\n",
    "    \n",
    "    def heaviside(x):\n",
    "        return np.where(x >= 0, 1, 0)\n",
    "    nx = 100\n",
    "    x = np.linspace(0, 100, nx)\n",
    "    dx = x[1]-x[2]\n",
    "    theta = heaviside(x)\n",
    "    t = np.linspace(0,30,nt)\n",
    "    dt = t[1] - t[0]\n",
    "    # q1_0= 2 * theta * (50 - x) + 1\n",
    "    q1_0 = 2*np.where(50-x>0, 1, 0) + 1\n",
    "    v_0 = np.zeros(nx)\n",
    "    q2_0 = q1_0*v_0\n",
    "    \n",
    "    fig, ax = plt.subplots()\n",
    "    line = ax.plot(x, q1_0)[0]\n",
    "    ax.set_xlabel(\"x\")\n",
    "    ax.set_ylabel(\"Function\")\n",
    "    ax.set_title(f\"Fluxlimiter scheme\")\n",
    "\n",
    "    # Copying the initial conditions for the array size and later updating them based on the function\n",
    "    q1 = q1_0.copy()\n",
    "    q2 = q2_0.copy()\n",
    "    v = v_0.copy()\n",
    "    # Defining function that does the plotting\n",
    "    def Algorithm(frame):\n",
    "        q1n = q1.copy()\n",
    "        q2n = q2.copy()\n",
    "        vn = v.copy()\n",
    "        # vn[0] = 0\n",
    "        # vn[-1] = 0\n",
    "        q1n[nx-1] = q1n[nx-2]\n",
    "        q1n[0] = q1n[1]\n",
    "        q2n[nx-1] = -q2n[nx-2]\n",
    "        q2n[0] = -q2n[1]\n",
    "        for i in range(1,nx-1):\n",
    "            vn[i] = 0.5*((q2n[i]/q1n[i])+(q2n[i+1]/q1n[i+1]))   \n",
    "            if vn[i] <  0:\n",
    "                fp1 = vn[i]*q1n[(i+1)] \n",
    "                fp2 = vn[i]*q2n[(i+1)]\n",
    "                fm1 = vn[i]*q1n[i]\n",
    "                fm2 = vn[i]*q2n[i]\n",
    "            else:\n",
    "                fp1 = vn[i]*q1n[i]\n",
    "                fp2 = vn[i]*q2n[i] \n",
    "                fm1 = vn[i]*q1n[(i-1)]\n",
    "                fm2 = vn[i]*q2n[(i-1)] \n",
    "\n",
    "            q1[i] = q1n[i] - (dt / dx) * (fm1 - fp1)\n",
    "            q2[i] = q2n[i] - (dt / dx) * (fm2 - fp2)\n",
    "            q2[i] = q2[i] - (q1[i+1] - q1[i-1])/(2*dx)\n",
    "          \n",
    "\n",
    "        line.set_ydata(q1)\n",
    "        return line\n",
    "\n",
    "    # Create animation\n",
    "    anim = FuncAnimation(fig, Algorithm, frames=nt, interval=50)\n",
    "\n",
    "    # Show the animation\n",
    "    return anim"
   ]
  },
  {
   "cell_type": "code",
   "execution_count": 7,
   "metadata": {},
   "outputs": [
    {
     "data": {
      "text/plain": [
       "<matplotlib.animation.FuncAnimation at 0x260c698b890>"
      ]
     },
     "execution_count": 7,
     "metadata": {},
     "output_type": "execute_result"
    }
   ],
   "source": [
    "rho(1000)"
   ]
  },
  {
   "cell_type": "code",
   "execution_count": 61,
   "metadata": {},
   "outputs": [],
   "source": [
    "dx = 1\n",
    "x = np.arange(0,100,dx)\n",
    "nx = len(x)\n",
    "dt = 0.05\n",
    "t = np.arange(0,30,dt)\n",
    "nt = len(t)\n",
    "c0 = 1.0\n",
    "\n",
    "pulse_height = 1.0\n",
    "pulse_width = 5.0\n",
    "# q10 = np.where((np.abs(x) <= pulse_width), pulse_height, 0)\n",
    "q10 = 2*(np.where(50-x>0,1,0))+1\n",
    "q20 = np.zeros_like(q10)\n",
    "\n",
    "q1 = q10.copy()\n",
    "q2 = q20.copy()\n",
    "\n",
    "q1_h = q10.copy()\n",
    "q2_h = q20.copy()\n",
    "\n",
    "sol_q1 = []\n",
    "sol_q2 = []\n",
    "\n",
    "\n",
    "for n in range(nt):\n",
    "    q1n = q1.copy()\n",
    "    q2n = q2.copy()\n",
    "    sol_q1.append(q1n)\n",
    "    sol_q2.append(q2n)\n",
    "    \n",
    "    q1n[nx-1] = q1n[nx-2]\n",
    "    q1n[0] = q1n[1]\n",
    "    q2n[nx-1] = -q2n[nx-2]\n",
    "    q2n[0] = -q2n[1]\n",
    "\n",
    "    q1_h[nx-1] = q1_h[nx-2]\n",
    "    q1_h[0] = q1_h[1]\n",
    "    q2_h[nx-1] = q2_h[nx-2]\n",
    "    q2_h[0] = q2_h[1]\n",
    "\n",
    "    for i in range(1,nx-1):\n",
    "        \n",
    "        if (q1n[i]==0) or (q1n[i+1]==0):\n",
    "            u_hp, f1p, f2p = 0, 0, 0\n",
    "        else:\n",
    "            u_hp = 0.5*((q2n[i]/q1n[i]) + (q2n[(i+1)]/q1n[(i+1)]))\n",
    "            if u_hp>0:\n",
    "                f1p = q1n[i]*u_hp\n",
    "                f2p = q2n[i]*u_hp\n",
    "            elif u_hp<0:\n",
    "                f1p = q1n[(i+1)]*u_hp\n",
    "                f2p = q2n[(i+1)]*u_hp\n",
    "            else:\n",
    "                f1p = 0\n",
    "                f2p = 0\n",
    "        \n",
    "        if (q1n[(i-1)]==0) or (q1n[i]==0):\n",
    "            u_hm, f1m, f2m = 0, 0, 0\n",
    "        else:\n",
    "            u_hm = 0.5*((q2n[(i-1)]/q1n[(i-1)]) + (q2n[i]/q1n[i]))\n",
    "\n",
    "            if u_hm>0:\n",
    "                f1m = q1n[(i-1)]*u_hm\n",
    "                f2m = q2n[(i-1)]*u_hm\n",
    "            elif u_hm<0:\n",
    "                f1m = q1n[i]*u_hm\n",
    "                f2m = q2n[i]*u_hm\n",
    "            else:\n",
    "                f1m = 0\n",
    "                f2m = 0\n",
    "\n",
    "        # Calculating at half step\n",
    "        q1_h[i] = q1n[i] - (dt/dx)*(f1p - f1m)\n",
    "        q2_h[i] = q2n[i] - (dt/dx)*(f2p - f2m)\n",
    "    for j in range(1,nx-1):\n",
    "        # Updating the source term\n",
    "        q1[j] = q1_h[j]\n",
    "        q2[j] = q2_h[j] - (1/dx)*((q1_h[(j+1)]-q1_h[(j-1)])*c0**2)"
   ]
  },
  {
   "cell_type": "code",
   "execution_count": 62,
   "metadata": {},
   "outputs": [
    {
     "data": {
      "text/plain": [
       "(<matplotlib.animation.FuncAnimation at 0x2a5986e81a0>, None)"
      ]
     },
     "execution_count": 62,
     "metadata": {},
     "output_type": "execute_result"
    }
   ],
   "source": [
    "# Defininga a plotter function\n",
    "def advection_plotter(sol, title):\n",
    "    x = np.arange(-50,50,1)\n",
    "    fig = plt.figure()\n",
    "    lines = plt.plot([])\n",
    "    line = lines[0]\n",
    "    plt.xlim(-60,60)\n",
    "    plt.ylim(-1, 3.5)\n",
    "    plt.ylabel(\"Amplitude\")\n",
    "    plt.xlabel(\"Position(x)\")\n",
    "    plt.title(title)\n",
    "    def animate(frame):\n",
    "        y = sol[frame]\n",
    "        line.set_data((x,y))\n",
    "    anim = FuncAnimation(fig, animate, frames=len(sol), interval=300)\n",
    "    return anim, plt.show()\n",
    "advection_plotter(sol_q1,\"1D Isothermal Shock Tube\")"
   ]
  },
  {
   "cell_type": "code",
   "execution_count": 10,
   "metadata": {},
   "outputs": [],
   "source": [
    "def hydrodynamic_solver(method,dx=1,c0=1.0,dt=0.5):\n",
    "    x = np.arange(0,100,dx)\n",
    "    nx = len(x)\n",
    "    t = np.arange(0, 30,dt)\n",
    "    nt = len(t)\n",
    "\n",
    "    # Initial Conditions\n",
    "    q10 = 2*(np.where(50-x>0,1,0))+1\n",
    "    q20 = np.zeros_like(q10)\n",
    "\n",
    "    # Solution at full step\n",
    "    q1 = q10.copy()\n",
    "    q2 = q20.copy()\n",
    "\n",
    "    # Solution at half step\n",
    "    q1_h = q10.copy()\n",
    "    q2_h = q20.copy()\n",
    "\n",
    "    # 2D solution Array\n",
    "    sol_q1 = []\n",
    "    sol_q2 = []\n",
    "\n",
    "    for i in range(nt):\n",
    "\n",
    "        # Copies to be used later\n",
    "        q1n = q1.copy()\n",
    "        q2n = q2.copy()\n",
    "        sol_q1.append(q1n)\n",
    "        sol_q2.append(q2n)\n",
    "\n",
    "\n",
    "        # Reflective boundary condition for full steps\n",
    "        q1n[nx-1] = q1n[nx-2]\n",
    "        q1n[0] = q1n[1]\n",
    "        q2n[nx-1] = -q2n[nx-2]\n",
    "        q2n[0] = -q2n[1]\n",
    "\n",
    "        # # periodic boundary conditions\n",
    "        # q1n[nx-1] = q1n[1]\n",
    "        # q1n[0] = q1n[nx-2]\n",
    "        # q2n[nx-1] = q2n[1]\n",
    "        # q2n[0] = q2n[nx-2]\n",
    "\n",
    "        # q1_h[nx-1] = q1_h[1]\n",
    "        # q1_h[0] = q1_h[nx-2]\n",
    "        # q2_h[nx-1] = q2_h[1]\n",
    "        # q2_h[0] = q2_h[nx-2]\n",
    "\n",
    "        # Reflective boundary conditions for half steps\n",
    "        q1_h[nx-1] = q1_h[nx-2]\n",
    "        q1_h[0] = q1_h[1]\n",
    "        q2_h[nx-1] = -q2_h[nx-2]\n",
    "        q2_h[0] = -q2_h[1]\n",
    "\n",
    "        for i in range(1,nx-1):\n",
    "\n",
    "            # Velocity for i+1/2\n",
    "            if (q1n[i]==0) or (q1n[i+1]==0):\n",
    "                u_hp, f1p, f2p = 0, 0, 0\n",
    "            else:\n",
    "                u_hp = 0.5*((q2n[i]/q1n[i]) + (q2n[(i+1)]/q1n[(i+1)]))\n",
    "            \n",
    "            # fluxes for i+1/2\n",
    "            if u_hp>0:\n",
    "                f1p = q1n[i]*u_hp\n",
    "                f2p = q2n[i]*u_hp\n",
    "            elif u_hp<0:\n",
    "                f1p = q1n[(i+1)]*u_hp\n",
    "                f2p = q2n[(i+1)]*u_hp\n",
    "            else:\n",
    "                f1p = 0\n",
    "                f2p = 0\n",
    "\n",
    "            # Velocity for i-1/2\n",
    "            if (q1n[(i-1)]==0) or (q1n[i]==0):\n",
    "                u_hm, f1m, f2m = 0, 0, 0\n",
    "            else:\n",
    "                u_hm = 0.5*((q2n[(i-1)]/q1n[(i-1)]) + (q2n[i]/q1n[i]))\n",
    "\n",
    "            # fluxes for i-1/2\n",
    "            if u_hm>0:\n",
    "                f1m = q1n[(i-1)]*u_hm\n",
    "                f2m = q2n[(i-1)]*u_hm\n",
    "            elif u_hm<0:\n",
    "                f1m = q1n[i]*u_hm\n",
    "                f2m = q2n[i]*u_hm\n",
    "            else:\n",
    "                f1m = 0\n",
    "                f2m = 0\n",
    "\n",
    "            # Calculating at half step\n",
    "            q1_h[i] = q1n[i] - (dt/dx)*(f1p - f1m)\n",
    "            q2_h[i] = q2n[i] - (dt/dx)*(f2p - f2m)\n",
    "        \n",
    "        # Updating at full step\n",
    "        for j in range(1,nx-1):\n",
    "            q1[j] = q1_h[j]\n",
    "            q2[j] = q2_h[j] - (1/dx)*((q1_h[(j+1)]-q1_h[(j-1)])*c0**2)\n",
    "\n",
    "    return sol_q1"
   ]
  },
  {
   "cell_type": "code",
   "execution_count": 11,
   "metadata": {},
   "outputs": [],
   "source": [
    "sw = hydrodynamic_solver(\"spring\")"
   ]
  },
  {
   "cell_type": "code",
   "execution_count": 12,
   "metadata": {},
   "outputs": [
    {
     "data": {
      "text/plain": [
       "(<matplotlib.animation.FuncAnimation at 0x260c6a377d0>, None)"
      ]
     },
     "execution_count": 12,
     "metadata": {},
     "output_type": "execute_result"
    }
   ],
   "source": [
    "# Defininga a plotter function\n",
    "def advection_plotter(sol, title):\n",
    "    x = np.arange(-50,50,1)\n",
    "    fig = plt.figure()\n",
    "    lines = plt.plot([])\n",
    "    line = lines[0]\n",
    "    plt.xlim(-60,60)\n",
    "    plt.ylim(-1, 3.5)\n",
    "    plt.ylabel(\"Amplitude\")\n",
    "    plt.xlabel(\"Position(x)\")\n",
    "    plt.title(title)\n",
    "    def animate(frame):\n",
    "        y = sol[frame]\n",
    "        line.set_data((x,y))\n",
    "    anim = FuncAnimation(fig, animate, frames=len(sol), interval=300)\n",
    "    return anim, plt.show()\n",
    "advection_plotter(sw,\"1D Isothermal Shock Tube\")"
   ]
  },
  {
   "cell_type": "code",
   "execution_count": null,
   "metadata": {},
   "outputs": [],
   "source": []
  }
 ],
 "metadata": {
  "kernelspec": {
   "display_name": "Python 3",
   "language": "python",
   "name": "python3"
  },
  "language_info": {
   "codemirror_mode": {
    "name": "ipython",
    "version": 3
   },
   "file_extension": ".py",
   "mimetype": "text/x-python",
   "name": "python",
   "nbconvert_exporter": "python",
   "pygments_lexer": "ipython3",
   "version": "3.12.1"
  }
 },
 "nbformat": 4,
 "nbformat_minor": 2
}
