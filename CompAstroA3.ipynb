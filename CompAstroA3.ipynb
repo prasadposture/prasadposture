{
 "cells": [
  {
   "cell_type": "markdown",
   "metadata": {},
   "source": [
    "# Computational Methods in Astrophysics: Assignment 3\n",
    "##### Prasad Rajesh Posture\n",
    "Roll No.: MSC2303121013"
   ]
  },
  {
   "cell_type": "markdown",
   "metadata": {},
   "source": [
    "# Importing Dependencies"
   ]
  },
  {
   "cell_type": "code",
   "execution_count": 1,
   "metadata": {},
   "outputs": [],
   "source": [
    "import numpy as np\n",
    "import matplotlib.pyplot as plt\n",
    "import seaborn as sns\n",
    "from matplotlib.animation import FuncAnimation\n",
    "from IPython import display\n",
    "%matplotlib tk"
   ]
  },
  {
   "cell_type": "markdown",
   "metadata": {},
   "source": [
    "#### Total Variation Diminishing Schemes\n",
    "**Total Variation:** It is a measure of how much a function oscillates or varies within a given interval. It is given as $$TV(q) = \\sum_{i=0}^{N} |q_{i} - q_{i-1}|$$\n",
    "**TVD Scheme:**\n",
    "A numerical scheme is said to be total variation diminishing (TVD) scheme if\n",
    "$$ TV(q^{n+1}) \\leq TV(q^n)$$\n",
    "\n",
    "Such a scheme will not develop oscillations near a jump, because a jump is a monotonically\n",
    "in/decreasing function and a total variation diminishing scheme will not increase the TV ,\n",
    "and hence in this case keep the TV identically constant. This appears to be a desirable property\n",
    "of the numerical scheme."
   ]
  },
  {
   "cell_type": "markdown",
   "metadata": {},
   "source": [
    "#### Slope Limiters\n",
    "Sharp changes or discontinuities in a solution can introduce errors in numerical simulations because traditional numerical methods, like finite difference or finite volume schemes, struggle to accurately represent and resolve abrupt changes in the solution. When a sharp change occurs, the solution gradients become very steep, leading to large numerical errors and oscillations in the computed solution. These errors arise because the numerical method may not capture the rapid changes adequately, leading to inaccuracies in the computed values. **Slope limiters** help mitigate these issues by smoothing out the solution near sharp changes, thereby reducing the steepness of the gradients and suppressing oscillations. They restrict the steepness of the solution gradients to avoid unphysical behavior like overshoots and oscillations, especially in regions of sharp gradients or discontinuities.\n",
    "\n",
    "#### Flux Limiters\n",
    "Flux limiters are primarily used to control the propagation of information across grid cells in hyperbolic PDEs. They limit the magnitude of the numerical fluxes to prevent the formation of spurious oscillations and ensure stability and accuracy of the solution, particularly in regions of steep gradients or discontinuities. Flux limiters are essential for capturing shock waves and other discontinuities accurately, as they help maintain the monotonicity and positivity of the solution by controlling the fluxes at cell interfaces.\n",
    "\n",
    "#### Difference between Slope Limiter and Flux Limiter\n",
    "1) Slope limiters are used to control the steepness of solution gradients within individual grid cells. Flux limiters, on the other hand, are used to control the propagation of information across grid cells in hyperbolic.<br>\n",
    "2) PDEs.Slope Limiters: Applied within individual grid cells to control the rate of change of the solution. Flux Limiters: Applied at cell interfaces to control the magnitude of fluxes between adjacent grid cells.<br>\n",
    "3) Slope Limiters: Smoothen out the solution gradients within cells, preventing unphysical oscillations near sharp changes. Flux Limiters: Control the propagation of information between grid cells, ensuring stability and accuracy of the solution by limiting the magnitude of fluxes, especially in regions of steep gradients or discontinuities."
   ]
  },
  {
   "cell_type": "markdown",
   "metadata": {},
   "source": [
    "#### Defining all the required functions"
   ]
  },
  {
   "cell_type": "code",
   "execution_count": 49,
   "metadata": {},
   "outputs": [],
   "source": [
    "# Defining Phi's: Flux Limiters\n",
    "# Defining flux limiter functions\n",
    "# works\n",
    "def donner_cell(r):\n",
    "    \"Donner Cell\"\n",
    "    return 0.0\n",
    "# works\n",
    "def lax_wendroff(r):\n",
    "    \"Lax-Wendroff\"\n",
    "    return 1.0\n",
    "\n",
    "# works\n",
    "def beam_warming(r):\n",
    "    \"Beam-Warming\"\n",
    "    return r\n",
    "\n",
    "# works\n",
    "def fromm(r):\n",
    "    \"Fromm\"\n",
    "    return (1/2)*(1+r)\n",
    "\n",
    "# works\n",
    "def minmod(r):\n",
    "    \"Minmod\"\n",
    "    if r>0:\n",
    "        if 1<=abs(r):\n",
    "            return 1\n",
    "        elif 1>abs(r):\n",
    "            return r\n",
    "        else:\n",
    "            pass\n",
    "    else:\n",
    "        return 0\n",
    "\n",
    "# works\n",
    "def superbee(r):\n",
    "    \"Superbee\"\n",
    "    return max(0, min(1,2*r), min(2,r))\n",
    "\n",
    "# No reference to verify\n",
    "# It is some similiar to superbee, given that the superbee isnt working properly\n",
    "# Same issue could be with this one\n",
    "def mc(r):\n",
    "    \"MC\"\n",
    "    return max(0, min((1+r)/2, 2, 2*r))\n",
    "\n",
    "# no reference \n",
    "# lets assume that it works\n",
    "def van_leer(r):\n",
    "    \"van Leer\"\n",
    "    return (r+abs(r))/(1+abs(r))\n"
   ]
  },
  {
   "cell_type": "code",
   "execution_count": 50,
   "metadata": {},
   "outputs": [],
   "source": [
    "# Defining a solver function\n",
    "\n",
    "def pde_solver(method, nt=10):\n",
    "    global method_, dt_, nt_\n",
    "    method_ = method\n",
    "    nx = 200\n",
    "    x = np.linspace(-10, 10, nx)\n",
    "    dx = x[1] - x[0]\n",
    "    dt = 10**(-3) \n",
    "    dt_ = dt    \n",
    "    nt_ = nt                                          \n",
    "    t = np.arange(0,nt, dt)          \n",
    "    c = 3.0\n",
    "\n",
    "    pulse_height = 1.0\n",
    "    pulse_width = 5.0\n",
    "    q0 = np.where((np.abs(x) <= pulse_width), pulse_height, 0)\n",
    "    \n",
    "    q = q0.copy()\n",
    "    sol = []\n",
    "   \n",
    "    for i in range(len(t)):\n",
    "        qn = q.copy()\n",
    "        sol.append(qn)\n",
    "       \n",
    "        for i in range(nx):\n",
    "            theta = 1\n",
    "        \n",
    "            dm = ((qn[i] - qn[(i-1) % nx]))\n",
    "            if dm != 0:\n",
    "                rnm = (qn[(i - 1) % nx] - qn[(i - 2) % nx]) / dm\n",
    "            else:\n",
    "                rnm = 0.0\n",
    "            phim = method(rnm)\n",
    "            \n",
    "            dp = ((qn[(i+1)%nx] - qn[i]))\n",
    "            if dp !=0:\n",
    "                rnp = (qn[i] - qn[(i - 1) % nx]) / dp\n",
    "            else:\n",
    "                rnp = 0.0\n",
    "            phip = method(rnp)\n",
    "\n",
    "            \n",
    "            fnm = c/2 * ((1 + theta)*qn[(i - 1) % nx] + (1 - theta)*qn[i]) + abs(c)/2 * (1-abs(c*dt/dx))*(qn[i] - qn[(i - 1) % nx]) * phim\n",
    "            fnp = c/2 * ((1 + theta)*qn[i] + (1 - theta)*qn[(i + 1) % nx]) + abs(c)/2 * (1-abs(c*dt/dx))*(qn[(i + 1) % nx] - qn[i]) * phip\n",
    "            \n",
    "            q[i] = qn[i] + (dt/dx) * (fnm-fnp)\n",
    "    return sol"
   ]
  },
  {
   "cell_type": "code",
   "execution_count": 51,
   "metadata": {},
   "outputs": [],
   "source": [
    "# Defininga a plotter function\n",
    "def animator(sol):\n",
    "    x = np.linspace(-10,10,len(sol[0]))\n",
    "    fig = plt.figure()\n",
    "    lines = plt.plot([])\n",
    "    line = lines[0]\n",
    "    plt.xlim(-10,10)\n",
    "    plt.ylim(-0.05, max(sol[0])+0.1)\n",
    "    plt.ylabel(\"Amplitude\")\n",
    "    plt.xlabel(\"Position(x)\")\n",
    "    plt.title(method_.__doc__)\n",
    "    def animate(frame):\n",
    "        y = sol[frame*int((nt_/dt_)/(40*nt_))]\n",
    "        line.set_data((x,y))\n",
    "    anim = FuncAnimation(fig, animate, frames=40*nt_, interval=25)\n",
    "    return anim, plt.show()"
   ]
  },
  {
   "cell_type": "markdown",
   "metadata": {},
   "source": [
    "#### Running the simulation for each method"
   ]
  },
  {
   "cell_type": "code",
   "execution_count": 52,
   "metadata": {},
   "outputs": [
    {
     "data": {
      "text/plain": [
       "(<matplotlib.animation.FuncAnimation at 0x179cf3e8440>, None)"
      ]
     },
     "execution_count": 52,
     "metadata": {},
     "output_type": "execute_result"
    }
   ],
   "source": [
    "animator(pde_solver(donner_cell))"
   ]
  },
  {
   "cell_type": "code",
   "execution_count": 53,
   "metadata": {},
   "outputs": [
    {
     "data": {
      "text/plain": [
       "(<matplotlib.animation.FuncAnimation at 0x179d52177a0>, None)"
      ]
     },
     "execution_count": 53,
     "metadata": {},
     "output_type": "execute_result"
    }
   ],
   "source": [
    "animator(pde_solver(lax_wendroff))"
   ]
  },
  {
   "cell_type": "code",
   "execution_count": 54,
   "metadata": {},
   "outputs": [
    {
     "data": {
      "text/plain": [
       "(<matplotlib.animation.FuncAnimation at 0x179d63cf050>, None)"
      ]
     },
     "execution_count": 54,
     "metadata": {},
     "output_type": "execute_result"
    }
   ],
   "source": [
    "animator(pde_solver(beam_warming))"
   ]
  },
  {
   "cell_type": "code",
   "execution_count": 55,
   "metadata": {},
   "outputs": [
    {
     "data": {
      "text/plain": [
       "(<matplotlib.animation.FuncAnimation at 0x179d76cc590>, None)"
      ]
     },
     "execution_count": 55,
     "metadata": {},
     "output_type": "execute_result"
    }
   ],
   "source": [
    "animator(pde_solver(fromm))"
   ]
  },
  {
   "cell_type": "code",
   "execution_count": 56,
   "metadata": {},
   "outputs": [
    {
     "data": {
      "text/plain": [
       "(<matplotlib.animation.FuncAnimation at 0x179c852a3c0>, None)"
      ]
     },
     "execution_count": 56,
     "metadata": {},
     "output_type": "execute_result"
    }
   ],
   "source": [
    "animator(pde_solver(minmod))"
   ]
  },
  {
   "cell_type": "code",
   "execution_count": 57,
   "metadata": {},
   "outputs": [
    {
     "data": {
      "text/plain": [
       "(<matplotlib.animation.FuncAnimation at 0x179d76c5850>, None)"
      ]
     },
     "execution_count": 57,
     "metadata": {},
     "output_type": "execute_result"
    }
   ],
   "source": [
    "animator(pde_solver(superbee))"
   ]
  },
  {
   "cell_type": "code",
   "execution_count": 58,
   "metadata": {},
   "outputs": [
    {
     "data": {
      "text/plain": [
       "(<matplotlib.animation.FuncAnimation at 0x179cf543500>, None)"
      ]
     },
     "execution_count": 58,
     "metadata": {},
     "output_type": "execute_result"
    }
   ],
   "source": [
    "animator(pde_solver(mc))"
   ]
  },
  {
   "cell_type": "code",
   "execution_count": 59,
   "metadata": {},
   "outputs": [
    {
     "data": {
      "text/plain": [
       "(<matplotlib.animation.FuncAnimation at 0x179e0a8b080>, None)"
      ]
     },
     "execution_count": 59,
     "metadata": {},
     "output_type": "execute_result"
    }
   ],
   "source": [
    "animator(pde_solver(van_leer))"
   ]
  },
  {
   "cell_type": "markdown",
   "metadata": {},
   "source": [
    "# 2. 1D Isothermal Shock Tube"
   ]
  },
  {
   "cell_type": "code",
   "execution_count": null,
   "metadata": {},
   "outputs": [],
   "source": []
  }
 ],
 "metadata": {
  "kernelspec": {
   "display_name": "Python 3",
   "language": "python",
   "name": "python3"
  },
  "language_info": {
   "codemirror_mode": {
    "name": "ipython",
    "version": 3
   },
   "file_extension": ".py",
   "mimetype": "text/x-python",
   "name": "python",
   "nbconvert_exporter": "python",
   "pygments_lexer": "ipython3",
   "version": "3.12.1"
  }
 },
 "nbformat": 4,
 "nbformat_minor": 2
}
