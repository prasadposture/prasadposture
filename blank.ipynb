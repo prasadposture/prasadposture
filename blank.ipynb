{
 "cells": [
  {
   "cell_type": "markdown",
   "metadata": {},
   "source": [
    "# Assignment 1\n",
    "### Course: AA 651 Astronomy Laboratory - I\n",
    "#### Prasad Rajesh Posture\n",
    "#### Course: M.Sc.Astronomy\n",
    "#### Roll No.: 2303121013"
   ]
  },
  {
   "cell_type": "markdown",
   "metadata": {},
   "source": [
    "### Problem 1"
   ]
  },
  {
   "cell_type": "code",
   "execution_count": 39,
   "metadata": {},
   "outputs": [
    {
     "name": "stdout",
     "output_type": "stream",
     "text": [
      "Single Precision: k= 23 ,s= 1.1920929e-07\n",
      "Double Precision: k= 52 ,s= 2.220446049250313e-16\n"
     ]
    }
   ],
   "source": [
    "import numpy as np\n",
    "\n",
    "# Single Precision\n",
    "s = np.float32(1.0)\n",
    "for k in range(1, 101):\n",
    "    s = np.float32(0.5) * s\n",
    "    t = s + np.float32(1.0)\n",
    "    if t <= np.float32(1.0):\n",
    "        s = np.float32(2.0) * s\n",
    "        print(\"Single Precision:\",\"k=\",k-1,\",s=\",s)\n",
    "        break\n",
    "        \n",
    "# Double precision\n",
    "s = np.float64(1.0)\n",
    "for k in range(1, 101):\n",
    "    s = 0.5 * s\n",
    "    t = s + 1.0\n",
    "    if t <= 1.0:\n",
    "        s = 2.0 * s\n",
    "        print(\"Double Precision:\",\"k=\",k-1,\",s=\",s)\n",
    "        break"
   ]
  },
  {
   "cell_type": "markdown",
   "metadata": {},
   "source": [
    "### Problem 2"
   ]
  },
  {
   "cell_type": "code",
   "execution_count": 15,
   "metadata": {},
   "outputs": [
    {
     "name": "stdout",
     "output_type": "stream",
     "text": [
      "For x =  0.1\n",
      "Method 1: y1 =  0.00498756211208895  Fractional error:  1.5477540519016434e-14\n",
      "Method 2: y2 =  0.004987562112089027  Fractional error:  1.5477540519016194e-14\n",
      "Method 2 is better than method 1\n",
      "\n",
      "\n",
      "For x =  0.01\n",
      "Method 1: y1 =  4.9998750062396624e-05  Fractional error:  1.9895607230461395e-12\n",
      "Method 2: y2 =  4.99987500624961e-05  Fractional error:  1.989560723042181e-12\n",
      "Method 2 is better than method 1\n",
      "\n",
      "\n",
      "For x =  0.001\n",
      "Method 1: y1 =  4.999998750587764e-07  Fractional error:  1.1742801846932693e-10\n",
      "Method 2: y2 =  4.999998750000624e-07  Fractional error:  1.1742801848311627e-10\n",
      "Method 1 is better than method 2\n",
      "\n",
      "\n"
     ]
    }
   ],
   "source": [
    "def function1(x):\n",
    "    y = (x**2 + 1.0)**(0.5) - 1.0\n",
    "    return y\n",
    "\n",
    "def function2(x):\n",
    "    y = x**2 / ((x**2 + 1.0)**(0.5) + 1.0)\n",
    "    return y\n",
    "\n",
    "x_values = [0.1, 0.01, 0.001]\n",
    "\n",
    "for x in x_values:\n",
    "    y1 = function1(x)\n",
    "    y2 = function2(x)\n",
    "    error1 = abs(y1 - y2) / abs(y1)\n",
    "    error2 = abs(y1 - y2) / abs(y2)\n",
    "    print(\"For x = \", x)\n",
    "    print(\"Method 1: y1 = \", y1, \" Fractional error: \", error1)\n",
    "    print(\"Method 2: y2 = \", y2, \" Fractional error: \", error2)\n",
    "    if error2 > error1:\n",
    "        print(\"Method 1 is better than method 2\")\n",
    "    else:\n",
    "        print(\"Method 2 is better than method 1\")\n",
    "    print(\"\\n\")"
   ]
  },
  {
   "cell_type": "markdown",
   "metadata": {},
   "source": [
    "### Problem 3"
   ]
  },
  {
   "cell_type": "code",
   "execution_count": 23,
   "metadata": {},
   "outputs": [
    {
     "name": "stdout",
     "output_type": "stream",
     "text": [
      "n: 16 , Actual Value: 0.0002800335820725831 , Reccurence Value: 0.000280033582072583 , Absolute Error:  0.0009062077075696454 , Reccurence Relation is Unstable \n",
      "\n",
      "n: 30 , Actual Value: 3.321873975409138e-07 , Reccurence Value: 3.3218739754091364e-07 , Absolute Error:  1.0749809997111433e-06 , Reccurence Relation is Unstable \n",
      "\n",
      "n: 40 , Actual Value: 2.7008890848810156e-09 , Reccurence Value: 2.700889084881015e-09 , Absolute Error:  8.740260678362166e-09 , Reccurence Relation is Unstable \n",
      "\n",
      "n: 50 , Actual Value: 2.195989945082413e-11 , Reccurence Value: 2.1959899450824123e-11 , Absolute Error:  7.106372740192719e-11 , Reccurence Relation is Unstable \n",
      "\n"
     ]
    }
   ],
   "source": [
    "# Assigning x\n",
    "x = ((5.0)**(0.5) - 1.0) / 2.0\n",
    "\n",
    "# Reccurence Relation\n",
    "# x^(n+1) = x^(n-1)-x^n\n",
    "\n",
    "# List of n's to check the relation \n",
    "nS = [16, 30, 40, 50] # One can vary this numbers to change the output\n",
    "\n",
    "for n in nS:\n",
    "    if x**(n+1)==x**(n-1)-x**n:\n",
    "        print(\"n: \",n, x**(n+1), \"Reccurence Relation is Stable \\n\")\n",
    "    else:\n",
    "        print(\"n:\",n, \", Actual Value:\",x**(n+1),\", Reccurence Value:\", x**(n-1)-x**n, \", Absolute Error: \",abs(x**(n+1)-x**(n-1)-x**n),\", Reccurence Relation is Unstable \\n\" )"
   ]
  },
  {
   "cell_type": "markdown",
   "metadata": {},
   "source": [
    "### Problem 4"
   ]
  },
  {
   "cell_type": "code",
   "execution_count": 22,
   "metadata": {},
   "outputs": [
    {
     "name": "stdout",
     "output_type": "stream",
     "text": [
      "n: 15 ,By Direct Calculations: 0.16042630893253407 ,By Reccurence Relation: 0.16042630893253307 ,Recurrence Relation is Unstable\n",
      "n: 20 ,By Direct Calculations: 0.12380383076256998 ,By Reccurence Relation: 0.12380383076256907 ,Recurrence Relation is Unstable\n"
     ]
    }
   ],
   "source": [
    "import scipy.integrate as sc_integ\n",
    "import numpy as np\n",
    "\n",
    "def func(x):\n",
    "    return (x**n)*(np.exp(x))\n",
    "\n",
    "# Calculating Yn directly using the Integration \n",
    "nS = np.array([15, 20]) # One can vary this numbers to observe the changes in the output\n",
    "yn1 = []\n",
    "for n in nS:\n",
    "    y = sc_integ.quad(func,0,1)\n",
    "    yn1.append(y[0])\n",
    "\n",
    "# Calculating Yn using the reccurence relation \n",
    "nSd = nS-1\n",
    "yn2 = []\n",
    "for n in nSd:\n",
    "    y = sc_integ.quad(func,0,1)\n",
    "    y = (np.e) - (n + 1)*y[0]\n",
    "    yn2.append(y)\n",
    "\n",
    "for i,j in zip(yn1,yn2):\n",
    "    if i==j:\n",
    "        print(\"n:\",nS[yn1.index(i)],\",By Direct Calculations:\",i,\",By Reccurence Relation:\",j,\",Recurrence Relation is Stable\")\n",
    "    else:\n",
    "        print(\"n:\",nS[yn1.index(i)],\",By Direct Calculations:\",i,\",By Reccurence Relation:\",j,\",Recurrence Relation is Unstable\")"
   ]
  },
  {
   "cell_type": "markdown",
   "metadata": {},
   "source": [
    "### Problem 5"
   ]
  },
  {
   "cell_type": "code",
   "execution_count": 49,
   "metadata": {},
   "outputs": [
    {
     "name": "stdout",
     "output_type": "stream",
     "text": [
      "Single Digit Precision\n",
      "Forward Order Summation:  -0.5\n",
      "Reverse Order Summation:  -14489644.0\n",
      "Largest to Smallest Order: 14219428.0\n",
      "Smallest to Largest Order: 14219427.0\n",
      "\n",
      "\n",
      "Double Digit Precison\n",
      "Forward Order Summation:  -7.4313015829829965e-06\n",
      "Reverse Order Summation:  -14489643.919031993\n",
      "Largest to Smallest Order: 14219428.439379033\n",
      "Smallest to Largest Order: 14219428.439379033\n"
     ]
    }
   ],
   "source": [
    "# Single Digit Precison\n",
    "print(\"Single Digit Precision\")\n",
    "x = np.array([2.718281823, -3.141592654, 1.414213562, 0.5772156649, 0.3010299957])\n",
    "x = np.float32(x)\n",
    "y = np.array([1486.2497, 878366.9879, -22.37492, 4773714.647, 0.000185049])\n",
    "y = np.float32(y)\n",
    "print(\"Forward Order Summation: \",np.dot(x,y))\n",
    "print(\"Reverse Order Summation: \",np.dot(x[::-1],y))\n",
    "print(\"Largest to Smallest Order:\",np.dot(sorted(x)[::-1],sorted(y)[::-1]))\n",
    "print(\"Smallest to Largest Order:\",np.dot(sorted(x),sorted(y)))\n",
    "print(\"\\n\")\n",
    "\n",
    "# Double digit precision (default)\n",
    "print(\"Double Digit Precison\")\n",
    "x = np.array([2.718281823, -3.141592654, 1.414213562, 0.5772156649, 0.3010299957])\n",
    "y = np.array([1486.2497, 878366.9879, -22.37492, 4773714.647, 0.000185049])\n",
    "print(\"Forward Order Summation: \",np.dot(x,y))\n",
    "print(\"Reverse Order Summation: \",np.dot(x[::-1],y))\n",
    "print(\"Largest to Smallest Order:\",np.dot(sorted(x)[::-1],sorted(y)[::-1]))\n",
    "print(\"Smallest to Largest Order:\",np.dot(sorted(x),sorted(y)))"
   ]
  },
  {
   "cell_type": "markdown",
   "metadata": {},
   "source": [
    "The End"
   ]
  }
 ],
 "metadata": {
  "kernelspec": {
   "display_name": "Python 3 (ipykernel)",
   "language": "python",
   "name": "python3"
  },
  "language_info": {
   "codemirror_mode": {
    "name": "ipython",
    "version": 3
   },
   "file_extension": ".py",
   "mimetype": "text/x-python",
   "name": "python",
   "nbconvert_exporter": "python",
   "pygments_lexer": "ipython3",
   "version": "3.10.9"
  }
 },
 "nbformat": 4,
 "nbformat_minor": 2
}
